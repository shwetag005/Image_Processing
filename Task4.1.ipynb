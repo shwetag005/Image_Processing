{
 "cells": [
  {
   "cell_type": "code",
   "execution_count": null,
   "id": "bb12b14b",
   "metadata": {},
   "outputs": [],
   "source": [
    "#Task 4.1\n",
    "#Create Image By Yourself Using Python Code"
   ]
  },
  {
   "cell_type": "markdown",
   "id": "f18c76ee",
   "metadata": {},
   "source": [
    "import numpy as np"
   ]
  },
  {
   "cell_type": "code",
   "execution_count": 2,
   "id": "22e0e2bb",
   "metadata": {},
   "outputs": [],
   "source": [
    "photo = np.zeros((500,500,3))"
   ]
  },
  {
   "cell_type": "code",
   "execution_count": 3,
   "id": "9cf99edd",
   "metadata": {},
   "outputs": [
    {
     "data": {
      "text/plain": [
       "(500, 500, 3)"
      ]
     },
     "execution_count": 3,
     "metadata": {},
     "output_type": "execute_result"
    }
   ],
   "source": [
    "photo.shape"
   ]
  },
  {
   "cell_type": "code",
   "execution_count": 4,
   "id": "7b9b8ed7",
   "metadata": {},
   "outputs": [],
   "source": [
    "photo [100:400,240:260]=[0,255,255] \n",
    "photo [240:260,100:400]=[0,255,255] \n",
    "photo [100:120,240:400]=[0,255,0]   \n",
    "photo [240:400,380:400]=[0,255,0]  \n",
    "photo [100:260,100:120]=[0,255,0]  \n",
    "photo [380:400,100:260]=[0,255,0]   \n",
    "photo [150:200,150:200]=[0,0,255]  \n",
    "photo [160:190,160:190]=[0,255,255] \n",
    "photo [150:200,290:340]=[0,0,255]   \n",
    "photo [160:190,300:330]=[0,255,255] \n",
    "photo [290:340,290:340]=[0,0,255]  \n",
    "photo [300:330,300:330]=[0,255,255] \n",
    "photo [290:340,150:200]=[0,0,255]   \n",
    "photo [300:330,160:190]=[0,255,255]"
   ]
  },
  {
   "cell_type": "code",
   "execution_count": 5,
   "id": "0be54f28",
   "metadata": {},
   "outputs": [],
   "source": [
    "import cv2"
   ]
  },
  {
   "cell_type": "code",
   "execution_count": 6,
   "id": "1487431b",
   "metadata": {},
   "outputs": [],
   "source": [
    "cv2.imshow(\"photo\",photo)\n",
    "cv2.waitKey()\n",
    "cv2.destroyAllWindows()"
   ]
  },
  {
   "cell_type": "code",
   "execution_count": null,
   "id": "b8a534c4",
   "metadata": {},
   "outputs": [],
   "source": []
  },
  {
   "cell_type": "code",
   "execution_count": null,
   "id": "7c57e403",
   "metadata": {},
   "outputs": [],
   "source": []
  }
 ],
 "metadata": {
  "kernelspec": {
   "display_name": "Python 3",
   "language": "python",
   "name": "python3"
  },
  "language_info": {
   "codemirror_mode": {
    "name": "ipython",
    "version": 3
   },
   "file_extension": ".py",
   "mimetype": "text/x-python",
   "name": "python",
   "nbconvert_exporter": "python",
   "pygments_lexer": "ipython3",
   "version": "3.9.4"
  }
 },
 "nbformat": 4,
 "nbformat_minor": 5
}
