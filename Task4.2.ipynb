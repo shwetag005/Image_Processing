{
 "cells": [
  {
   "cell_type": "code",
   "execution_count": null,
   "id": "a94013f9",
   "metadata": {},
   "outputs": [],
   "source": [
    "#Task 4.2\n",
    "#Take 2 images crop some part of images and swap it."
   ]
  },
  {
   "cell_type": "code",
   "execution_count": null,
   "id": "5400348a",
   "metadata": {},
   "outputs": [],
   "source": [
    "import cv2"
   ]
  },
  {
   "cell_type": "code",
   "execution_count": null,
   "id": "563766c6",
   "metadata": {},
   "outputs": [],
   "source": [
    "photo = cv2.imread('C:/Users/Admin/OneDrive/Pictures/mini.jpg')"
   ]
  },
  {
   "cell_type": "code",
   "execution_count": null,
   "id": "a1faa296",
   "metadata": {},
   "outputs": [],
   "source": [
    "photo.shape"
   ]
  },
  {
   "cell_type": "code",
   "execution_count": null,
   "id": "40ecdd88",
   "metadata": {},
   "outputs": [],
   "source": [
    "image = cv2.imread(\"C:/Users/Admin/OneDrive/Pictures/mickey.jpg\")"
   ]
  },
  {
   "cell_type": "code",
   "execution_count": null,
   "id": "339f6727",
   "metadata": {},
   "outputs": [],
   "source": [
    "image.shape"
   ]
  },
  {
   "cell_type": "code",
   "execution_count": null,
   "id": "c4029c7b",
   "metadata": {},
   "outputs": [],
   "source": [
    "cv2.imshow(\"mini\",photo)\n",
    "cv2.imshow(\"mickey\",image)\n",
    "cv2.waitKey()\n",
    "cv2.destroyAllWnidows()"
   ]
  },
  {
   "cell_type": "code",
   "execution_count": null,
   "id": "38f6d084",
   "metadata": {},
   "outputs": [],
   "source": []
  },
  {
   "cell_type": "code",
   "execution_count": null,
   "id": "063a0f92",
   "metadata": {},
   "outputs": [],
   "source": [
    "#SWAP and CROP  \n",
    "crop_photo = photo[0:240,180:410]\n",
    "image[0:240,180:410] = crop_photo\n",
    "cv2.imshow(\"Swaping\",image)\n",
    "cv2.waitKey()\n",
    "cv2.destroyAllWnidows()"
   ]
  },
  {
   "cell_type": "code",
   "execution_count": null,
   "id": "ee370dfb",
   "metadata": {},
   "outputs": [],
   "source": []
  },
  {
   "cell_type": "code",
   "execution_count": null,
   "id": "982f3006",
   "metadata": {},
   "outputs": [],
   "source": [
    "#CROP and SWAP\n",
    "#image = cv2.imread(\"mickey.jpg\")\n",
    "crop_image = image[0:240,180:410]\n",
    "photo[0:240,180:410] = crop_image\n",
    "cv2.imshow(\"Swaping\",photo)\n",
    "cv2.waitKey()\n",
    "cv2.destroyAllWnidows()"
   ]
  },
  {
   "cell_type": "code",
   "execution_count": null,
   "id": "9cec7ad7",
   "metadata": {},
   "outputs": [],
   "source": []
  },
  {
   "cell_type": "code",
   "execution_count": null,
   "id": "80452a26",
   "metadata": {},
   "outputs": [],
   "source": []
  },
  {
   "cell_type": "code",
   "execution_count": null,
   "id": "c71b4a33",
   "metadata": {},
   "outputs": [],
   "source": []
  }
 ],
 "metadata": {
  "kernelspec": {
   "display_name": "Python 3",
   "language": "python",
   "name": "python3"
  },
  "language_info": {
   "codemirror_mode": {
    "name": "ipython",
    "version": 3
   },
   "file_extension": ".py",
   "mimetype": "text/x-python",
   "name": "python",
   "nbconvert_exporter": "python",
   "pygments_lexer": "ipython3",
   "version": "3.9.4"
  }
 },
 "nbformat": 4,
 "nbformat_minor": 5
}
