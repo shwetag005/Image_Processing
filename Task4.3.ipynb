{
 "cells": [
  {
   "cell_type": "code",
   "execution_count": null,
   "id": "62e6086d",
   "metadata": {},
   "outputs": [],
   "source": [
    "#Task 4.3\n",
    "#Take 2 Images and Combine it to form a Single Image."
   ]
  },
  {
   "cell_type": "code",
   "execution_count": null,
   "id": "b900b627",
   "metadata": {},
   "outputs": [],
   "source": [
    "import cv2"
   ]
  },
  {
   "cell_type": "code",
   "execution_count": null,
   "id": "c0f84e4a",
   "metadata": {},
   "outputs": [],
   "source": [
    "photo = cv2.imread('C:/Users/Admin/OneDrive/Pictures/d1.jpg')"
   ]
  },
  {
   "cell_type": "code",
   "execution_count": null,
   "id": "859d2b84",
   "metadata": {},
   "outputs": [],
   "source": [
    "photo.shape"
   ]
  },
  {
   "cell_type": "code",
   "execution_count": null,
   "id": "ce2681d5",
   "metadata": {},
   "outputs": [],
   "source": [
    "cphoto = cv2.imread('C:/Users/Admin/OneDrive/Pictures/mickey.jpg')"
   ]
  },
  {
   "cell_type": "code",
   "execution_count": null,
   "id": "5532fa78",
   "metadata": {},
   "outputs": [],
   "source": [
    "cphoto.shape"
   ]
  },
  {
   "cell_type": "code",
   "execution_count": null,
   "id": "6aad0b2c",
   "metadata": {},
   "outputs": [],
   "source": [
    "mphoto = cv2.imread('C:/Users/Admin/OneDrive/Pictures/mini.jpg')"
   ]
  },
  {
   "cell_type": "code",
   "execution_count": null,
   "id": "cfa3a471",
   "metadata": {},
   "outputs": [],
   "source": [
    "mphoto.shape"
   ]
  },
  {
   "cell_type": "code",
   "execution_count": null,
   "id": "1de4ab76",
   "metadata": {},
   "outputs": [],
   "source": []
  },
  {
   "cell_type": "code",
   "execution_count": null,
   "id": "ffd4df93",
   "metadata": {},
   "outputs": [],
   "source": [
    "v_image = cv2.vconcat([photo, cphoto])"
   ]
  },
  {
   "cell_type": "code",
   "execution_count": null,
   "id": "79dcc455",
   "metadata": {},
   "outputs": [],
   "source": [
    "cv2.imshow(\"Swaping\",v_image)\n",
    "cv2.waitKey()\n",
    "cv2.destroyAllWnidows()"
   ]
  },
  {
   "cell_type": "code",
   "execution_count": null,
   "id": "da1a6b0a",
   "metadata": {},
   "outputs": [],
   "source": []
  },
  {
   "cell_type": "code",
   "execution_count": null,
   "id": "b1fb5553",
   "metadata": {},
   "outputs": [],
   "source": [
    "h_image = cv2.hconcat([cphoto, photo, mphoto])"
   ]
  },
  {
   "cell_type": "code",
   "execution_count": null,
   "id": "3ced83f6",
   "metadata": {},
   "outputs": [],
   "source": [
    "cv2.imshow(\"Swaping\",h_image)\n",
    "cv2.waitKey()\n",
    "cv2.destroyAllWnidows()"
   ]
  },
  {
   "cell_type": "code",
   "execution_count": null,
   "id": "0f2ba14f",
   "metadata": {},
   "outputs": [],
   "source": []
  },
  {
   "cell_type": "code",
   "execution_count": null,
   "id": "c0f5d9f8",
   "metadata": {},
   "outputs": [],
   "source": []
  }
 ],
 "metadata": {
  "kernelspec": {
   "display_name": "Python 3",
   "language": "python",
   "name": "python3"
  },
  "language_info": {
   "codemirror_mode": {
    "name": "ipython",
    "version": 3
   },
   "file_extension": ".py",
   "mimetype": "text/x-python",
   "name": "python",
   "nbconvert_exporter": "python",
   "pygments_lexer": "ipython3",
   "version": "3.9.4"
  }
 },
 "nbformat": 4,
 "nbformat_minor": 5
}
